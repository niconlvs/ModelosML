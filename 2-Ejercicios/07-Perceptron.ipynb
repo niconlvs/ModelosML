{
  "cells": [
    {
      "cell_type": "markdown",
      "metadata": {
        "id": "N8Yghh34rjFi"
      },
      "source": [
        "<a href=\"https://colab.research.google.com/github/andres-merino/AprendizajeAutomaticoInicial-05-N0105/blob/main/2-Ejercicios/07-Perceptron.ipynb\" target=\"_parent\"><img src=\"https://colab.research.google.com/assets/colab-badge.svg\" alt=\"Open In Colab\"/></a>"
      ]
    },
    {
      "cell_type": "markdown",
      "metadata": {
        "id": "WF9HIK2LrjFj"
      },
      "source": [
        "<table style=\"border: none; border-collapse: collapse;\">\n",
        "    <tr>\n",
        "        <td style=\"width: 20%; vertical-align: middle; padding-right: 10px;\">\n",
        "            <img src=\"https://i.imgur.com/nt7hloA.png\" width=\"100\">\n",
        "        </td>\n",
        "        <td style=\"width: 2px; text-align: center;\">\n",
        "            <font color=\"#0030A1\" size=\"7\">|</font><br>\n",
        "            <font color=\"#0030A1\" size=\"7\">|</font>\n",
        "        </td>\n",
        "        <td>\n",
        "            <p style=\"font-variant: small-caps;\"><font color=\"#0030A1\" size=\"5\">\n",
        "                <b>Escuela de Ciencias Físicas y Matemática</b>\n",
        "            </font> </p>\n",
        "            <p style=\"font-variant: small-caps;\"><font color=\"#0030A1\" size=\"4\">\n",
        "                Aprendizaje Automático Inicial &bull; Perceptrón\n",
        "            </font></p>\n",
        "            <p style=\"font-style: oblique;\"><font color=\"#0030A1\" size=\"3\">\n",
        "                Andrés Merino &bull; 2025-04\n",
        "            </font></p>\n",
        "        </td>  \n",
        "    </tr>\n",
        "</table>"
      ]
    },
    {
      "cell_type": "markdown",
      "source": [
        "####Nicolás Nolivos"
      ],
      "metadata": {
        "id": "YYLuewiTr7Nk"
      }
    },
    {
      "cell_type": "markdown",
      "metadata": {
        "id": "CuLepOjHrjFj"
      },
      "source": [
        "---\n",
        "## <font color='264CC7'> Introducción </font>\n",
        "\n",
        "A lo largo de este taller, aplicaremos un perceptrón para clasificar un conjunto de datos."
      ]
    },
    {
      "cell_type": "markdown",
      "metadata": {
        "id": "dN5FaDaArjFj"
      },
      "source": [
        "Los paquetes necesarios son:"
      ]
    },
    {
      "cell_type": "code",
      "execution_count": 1,
      "metadata": {
        "id": "I6s1lekorjFk"
      },
      "outputs": [],
      "source": [
        "# Paquetes necesarios\n",
        "from sklearn.datasets import fetch_openml\n",
        "import numpy as np\n",
        "import matplotlib.pyplot as plt\n",
        "from sklearn.preprocessing import StandardScaler\n",
        "import tensorflow as tf\n",
        "from tensorflow.keras.models import Sequential\n",
        "from tensorflow.keras.layers import Dense\n",
        "from sklearn.model_selection import train_test_split\n",
        "from sklearn.metrics import classification_report, confusion_matrix\n",
        "import seaborn as sns"
      ]
    },
    {
      "cell_type": "markdown",
      "metadata": {
        "id": "aR-Evn97rjFk"
      },
      "source": [
        "---\n",
        "## <font color='264CC7'> Clasificación </font>"
      ]
    },
    {
      "cell_type": "markdown",
      "metadata": {
        "id": "7GqyskodrjFk"
      },
      "source": [
        "Se usará el conjunto de datos de dígitos de MNIST."
      ]
    },
    {
      "cell_type": "code",
      "execution_count": 2,
      "metadata": {
        "id": "Pp2T5-MSrjFk"
      },
      "outputs": [],
      "source": [
        "# Cargamos el dataset MNIST\n",
        "X, y = fetch_openml('mnist_784', return_X_y=True, parser='auto')"
      ]
    },
    {
      "cell_type": "markdown",
      "metadata": {
        "id": "SBbD2wiPrjFk"
      },
      "source": [
        "\n",
        "### <font color='264CC7'> Preprocesamiento de datos </font>"
      ]
    },
    {
      "cell_type": "markdown",
      "metadata": {
        "id": "bJhNv1xOrjFl"
      },
      "source": [
        "Primero necesitas el conjunto de datos. Los datos a utilzar son los seleccionados en la clase anterior.\n",
        "\n",
        "<div style=\"background-color: #edf1f8; border-color: #264CC7; border-left: 5px solid #264CC7; padding: 0.5em;\">\n",
        "<strong>Ejercicio:</strong><br>\n",
        "    Carga el conjunto de datos y procésalos:\n",
        "<ul>\n",
        "  <li>Muestra algunos datos.</li>\n",
        "  <li>Muestra una descripción de los datos.</li>\n",
        "  <li>Escala los datos si es necesario.</li>\n",
        "</ul>\n",
        "</div>"
      ]
    },
    {
      "cell_type": "markdown",
      "source": [
        "#### <font color='264CC7'> Mostrar los primeros 5 dígitos </font>"
      ],
      "metadata": {
        "id": "6BCgnc--seKa"
      }
    },
    {
      "cell_type": "code",
      "source": [
        "fig, axes = plt.subplots(1, 5, figsize=(10, 3))\n",
        "for i, ax in enumerate(axes):\n",
        "    ax.imshow(X.iloc[i].values.reshape(28, 28), cmap='gray')\n",
        "    ax.set_title(f\"Etiqueta: {y[i]}\")\n",
        "    ax.axis('off')\n",
        "plt.show()"
      ],
      "metadata": {
        "colab": {
          "base_uri": "https://localhost:8080/",
          "height": 192
        },
        "id": "MADceD9ssyAf",
        "outputId": "099369f5-2b51-4b7b-9329-3fe928782add"
      },
      "execution_count": 3,
      "outputs": [
        {
          "output_type": "display_data",
          "data": {
            "text/plain": [
              "<Figure size 1000x300 with 5 Axes>"
            ],
            "image/png": "[encoded data removed]"
          },
          "metadata": {}
        }
      ]
    },
    {
      "cell_type": "markdown",
      "source": [
        "#### <font color='264CC7'> Descripción de los datos </font>"
      ],
      "metadata": {
        "id": "JgAIrfuAsnIr"
      }
    },
    {
      "cell_type": "code",
      "execution_count": 4,
      "metadata": {
        "colab": {
          "base_uri": "https://localhost:8080/"
        },
        "id": "oHRTYqbzrjFl",
        "outputId": "33c2ab32-ae36-4797-b018-512ce0e2a5b9"
      },
      "outputs": [
        {
          "output_type": "stream",
          "name": "stdout",
          "text": [
            "Dimensión de X: (70000, 784)\n",
            "Tipos de etiquetas: ['0' '1' '2' '3' '4' '5' '6' '7' '8' '9']\n"
          ]
        }
      ],
      "source": [
        "# Descripción básica del dataset\n",
        "print(f\"Dimensión de X: {X.shape}\")\n",
        "print(f\"Tipos de etiquetas: {np.unique(y)}\")  # De 0 a 9"
      ]
    },
    {
      "cell_type": "markdown",
      "source": [
        "Se tienen 70000 muestras (Imágenes) y 784 características (28x28 píxeles aplanados)"
      ],
      "metadata": {
        "id": "anGvgvuYs3E1"
      }
    },
    {
      "cell_type": "markdown",
      "source": [
        "#### <font color='264CC7'> Escalar Datos </font>"
      ],
      "metadata": {
        "id": "ARPx7xD-tGNz"
      }
    },
    {
      "cell_type": "code",
      "source": [
        "# Conversión de etiquetas a enteros\n",
        "y = y.astype(np.uint8)\n",
        "\n",
        "# Escalar los datos\n",
        "# Convertir de DataFrame a numpy array antes de escalar\n",
        "scaler = StandardScaler()\n",
        "X_scaled = scaler.fit_transform(X)"
      ],
      "metadata": {
        "id": "G5LSORHas_F4"
      },
      "execution_count": 5,
      "outputs": []
    },
    {
      "cell_type": "markdown",
      "metadata": {
        "id": "DzGHm-M3rjFl"
      },
      "source": [
        "\n",
        "### <font color='264CC7'> Determinación de la red </font>"
      ]
    },
    {
      "cell_type": "markdown",
      "metadata": {
        "id": "fcZ17TECrjFl"
      },
      "source": [
        "<div style=\"background-color: #edf1f8; border-color: #264CC7; border-left: 5px solid #264CC7; padding: 0.5em;\">\n",
        "<strong>Ejercicio:</strong><br>\n",
        "    Determina una red neuronal para clasificar los datos:\n",
        "<ul>\n",
        "  <li>Define la red.</li>\n",
        "  <li>Compila la red.</li>\n",
        "  <li>Presenta un resumen de la red.</li>\n",
        "</ul>\n",
        "</div>\n"
      ]
    },
    {
      "cell_type": "code",
      "execution_count": 6,
      "metadata": {
        "colab": {
          "base_uri": "https://localhost:8080/",
          "height": 248
        },
        "id": "5VWzQyLOrjFl",
        "outputId": "a292791e-1940-4acb-bc1d-08eb85928565"
      },
      "outputs": [
        {
          "output_type": "stream",
          "name": "stderr",
          "text": [
            "/usr/local/lib/python3.11/dist-packages/keras/src/layers/core/dense.py:87: UserWarning: Do not pass an `input_shape`/`input_dim` argument to a layer. When using Sequential models, prefer using an `Input(shape)` object as the first layer in the model instead.\n",
            "  super().__init__(activity_regularizer=activity_regularizer, **kwargs)\n"
          ]
        },
        {
          "output_type": "display_data",
          "data": {
            "text/plain": [
              "\u001b[1mModel: \"sequential\"\u001b[0m\n"
            ],
            "text/html": [
              "<pre style=\"white-space:pre;overflow-x:auto;line-height:normal;font-family:Menlo,'DejaVu Sans Mono',consolas,'Courier New',monospace\"><span style=\"font-weight: bold\">Model: \"sequential\"</span>\n",
              "</pre>\n"
            ]
          },
          "metadata": {}
        },
        {
          "output_type": "display_data",
          "data": {
            "text/plain": [
              "┏━━━━━━━━━━━━━━━━━━━━━━━━━━━━━━━━━┳━━━━━━━━━━━━━━━━━━━━━━━━┳━━━━━━━━━━━━━━━┓\n",
              "┃\u001b[1m \u001b[0m\u001b[1mLayer (type)                   \u001b[0m\u001b[1m \u001b[0m┃\u001b[1m \u001b[0m\u001b[1mOutput Shape          \u001b[0m\u001b[1m \u001b[0m┃\u001b[1m \u001b[0m\u001b[1m      Param #\u001b[0m\u001b[1m \u001b[0m┃\n",
              "┡━━━━━━━━━━━━━━━━━━━━━━━━━━━━━━━━━╇━━━━━━━━━━━━━━━━━━━━━━━━╇━━━━━━━━━━━━━━━┩\n",
              "│ dense (\u001b[38;5;33mDense\u001b[0m)                   │ (\u001b[38;5;45mNone\u001b[0m, \u001b[38;5;34m64\u001b[0m)             │        \u001b[38;5;34m50,240\u001b[0m │\n",
              "├─────────────────────────────────┼────────────────────────┼───────────────┤\n",
              "│ dense_1 (\u001b[38;5;33mDense\u001b[0m)                 │ (\u001b[38;5;45mNone\u001b[0m, \u001b[38;5;34m10\u001b[0m)             │           \u001b[38;5;34m650\u001b[0m │\n",
              "└─────────────────────────────────┴────────────────────────┴───────────────┘\n"
            ],
            "text/html": [
              "<pre style=\"white-space:pre;overflow-x:auto;line-height:normal;font-family:Menlo,'DejaVu Sans Mono',consolas,'Courier New',monospace\">┏━━━━━━━━━━━━━━━━━━━━━━━━━━━━━━━━━┳━━━━━━━━━━━━━━━━━━━━━━━━┳━━━━━━━━━━━━━━━┓\n",
              "┃<span style=\"font-weight: bold\"> Layer (type)                    </span>┃<span style=\"font-weight: bold\"> Output Shape           </span>┃<span style=\"font-weight: bold\">       Param # </span>┃\n",
              "┡━━━━━━━━━━━━━━━━━━━━━━━━━━━━━━━━━╇━━━━━━━━━━━━━━━━━━━━━━━━╇━━━━━━━━━━━━━━━┩\n",
              "│ dense (<span style=\"color: #0087ff; text-decoration-color: #0087ff\">Dense</span>)                   │ (<span style=\"color: #00d7ff; text-decoration-color: #00d7ff\">None</span>, <span style=\"color: #00af00; text-decoration-color: #00af00\">64</span>)             │        <span style=\"color: #00af00; text-decoration-color: #00af00\">50,240</span> │\n",
              "├─────────────────────────────────┼────────────────────────┼───────────────┤\n",
              "│ dense_1 (<span style=\"color: #0087ff; text-decoration-color: #0087ff\">Dense</span>)                 │ (<span style=\"color: #00d7ff; text-decoration-color: #00d7ff\">None</span>, <span style=\"color: #00af00; text-decoration-color: #00af00\">10</span>)             │           <span style=\"color: #00af00; text-decoration-color: #00af00\">650</span> │\n",
              "└─────────────────────────────────┴────────────────────────┴───────────────┘\n",
              "</pre>\n"
            ]
          },
          "metadata": {}
        },
        {
          "output_type": "display_data",
          "data": {
            "text/plain": [
              "\u001b[1m Total params: \u001b[0m\u001b[38;5;34m50,890\u001b[0m (198.79 KB)\n"
            ],
            "text/html": [
              "<pre style=\"white-space:pre;overflow-x:auto;line-height:normal;font-family:Menlo,'DejaVu Sans Mono',consolas,'Courier New',monospace\"><span style=\"font-weight: bold\"> Total params: </span><span style=\"color: #00af00; text-decoration-color: #00af00\">50,890</span> (198.79 KB)\n",
              "</pre>\n"
            ]
          },
          "metadata": {}
        },
        {
          "output_type": "display_data",
          "data": {
            "text/plain": [
              "\u001b[1m Trainable params: \u001b[0m\u001b[38;5;34m50,890\u001b[0m (198.79 KB)\n"
            ],
            "text/html": [
              "<pre style=\"white-space:pre;overflow-x:auto;line-height:normal;font-family:Menlo,'DejaVu Sans Mono',consolas,'Courier New',monospace\"><span style=\"font-weight: bold\"> Trainable params: </span><span style=\"color: #00af00; text-decoration-color: #00af00\">50,890</span> (198.79 KB)\n",
              "</pre>\n"
            ]
          },
          "metadata": {}
        },
        {
          "output_type": "display_data",
          "data": {
            "text/plain": [
              "\u001b[1m Non-trainable params: \u001b[0m\u001b[38;5;34m0\u001b[0m (0.00 B)\n"
            ],
            "text/html": [
              "<pre style=\"white-space:pre;overflow-x:auto;line-height:normal;font-family:Menlo,'DejaVu Sans Mono',consolas,'Courier New',monospace\"><span style=\"font-weight: bold\"> Non-trainable params: </span><span style=\"color: #00af00; text-decoration-color: #00af00\">0</span> (0.00 B)\n",
              "</pre>\n"
            ]
          },
          "metadata": {}
        }
      ],
      "source": [
        "# 1. Definir la red neuronal\n",
        "# Usamos una red simple: 1 capa oculta con 64 neuronas + capa de salida con 10 neuronas (una por cada dígito)\n",
        "model = Sequential([\n",
        "    Dense(64, activation='relu', input_shape=(784,)),  # Capa oculta con ReLU\n",
        "    Dense(10, activation='softmax')                    # Capa de salida (clasificación multiclase)\n",
        "])\n",
        "\n",
        "# 2. Compilar la red\n",
        "model.compile(\n",
        "    optimizer='adam',                   # Optimizador eficiente\n",
        "    loss='sparse_categorical_crossentropy',  # Pérdida adecuada para clasificación con etiquetas enteras\n",
        "    metrics=['accuracy']                # Métrica principal: precisión\n",
        ")\n",
        "\n",
        "# 3. Mostrar resumen de la red\n",
        "model.summary()\n"
      ]
    },
    {
      "cell_type": "markdown",
      "metadata": {
        "id": "Ohe6fJItrjFl"
      },
      "source": [
        "El modelo cuenta con un total de 50,890 parámetros entrenables. Estos parámetros son los que la red ajustará durante el proceso de entrenamiento para minimizar la diferencia entre sus predicciones y las etiquetas reales de los dígitos en el conjunto de datos MNIST."
      ]
    },
    {
      "cell_type": "markdown",
      "metadata": {
        "id": "1cORnAoKrjFl"
      },
      "source": [
        "\n",
        "### <font color='264CC7'> Entrenamiento del modelo y evaluación </font>\n"
      ]
    },
    {
      "cell_type": "markdown",
      "metadata": {
        "id": "-DKAjupArjFl"
      },
      "source": [
        "<div style=\"background-color: #edf1f8; border-color: #264CC7; border-left: 5px solid #264CC7; padding: 0.5em;\">\n",
        "<strong>Ejercicio:</strong><br>\n",
        "    Entrena el modelo y evalúalo:\n",
        "<ul>\n",
        "  <li>Entrena el modelo.</li>\n",
        "  <li>Evalúa el modelo con el conjunto de datos de prueba.</li>\n",
        "  <li>Genera una matriz de confusión y muestra las métricas de evaluación.</li>\n",
        "</ul>\n",
        "</div>"
      ]
    },
    {
      "cell_type": "markdown",
      "source": [
        "#### <font color='264CC7'> Entrenamiento </font>\n"
      ],
      "metadata": {
        "id": "8EnPocPD0kQ9"
      }
    },
    {
      "cell_type": "code",
      "execution_count": 7,
      "metadata": {
        "colab": {
          "base_uri": "https://localhost:8080/"
        },
        "id": "Ti0Q5qikrjFl",
        "outputId": "db0f28c8-8bf4-4525-a6b9-7cbcb27a5495"
      },
      "outputs": [
        {
          "output_type": "stream",
          "name": "stdout",
          "text": [
            "Epoch 1/10\n",
            "1575/1575 - 6s - 4ms/step - accuracy: 0.9219 - loss: 0.2727 - val_accuracy: 0.9573 - val_loss: 0.1754\n",
            "Epoch 2/10\n",
            "1575/1575 - 4s - 3ms/step - accuracy: 0.9655 - loss: 0.1163 - val_accuracy: 0.9598 - val_loss: 0.1854\n",
            "Epoch 3/10\n",
            "1575/1575 - 5s - 3ms/step - accuracy: 0.9749 - loss: 0.0840 - val_accuracy: 0.9664 - val_loss: 0.1788\n",
            "Epoch 4/10\n",
            "1575/1575 - 4s - 3ms/step - accuracy: 0.9805 - loss: 0.0633 - val_accuracy: 0.9663 - val_loss: 0.2363\n",
            "Epoch 5/10\n",
            "1575/1575 - 4s - 3ms/step - accuracy: 0.9846 - loss: 0.0515 - val_accuracy: 0.9666 - val_loss: 0.2489\n",
            "Epoch 6/10\n",
            "1575/1575 - 6s - 4ms/step - accuracy: 0.9882 - loss: 0.0386 - val_accuracy: 0.9696 - val_loss: 0.2559\n",
            "Epoch 7/10\n",
            "1575/1575 - 4s - 3ms/step - accuracy: 0.9902 - loss: 0.0307 - val_accuracy: 0.9689 - val_loss: 0.2888\n",
            "Epoch 8/10\n",
            "1575/1575 - 5s - 3ms/step - accuracy: 0.9915 - loss: 0.0259 - val_accuracy: 0.9696 - val_loss: 0.3307\n",
            "Epoch 9/10\n",
            "1575/1575 - 4s - 3ms/step - accuracy: 0.9929 - loss: 0.0215 - val_accuracy: 0.9671 - val_loss: 0.3668\n",
            "Epoch 10/10\n",
            "1575/1575 - 4s - 2ms/step - accuracy: 0.9936 - loss: 0.0214 - val_accuracy: 0.9671 - val_loss: 0.4222\n"
          ]
        }
      ],
      "source": [
        "# Dividir el dataset en entrenamiento y prueba\n",
        "X_train, X_test, y_train, y_test = train_test_split(\n",
        "    X_scaled, y, test_size=0.2, random_state=42)\n",
        "\n",
        "# 2. Entrenar el modelo\n",
        "history = model.fit(\n",
        "    X_train, y_train,\n",
        "    epochs=10,\n",
        "    batch_size=32,\n",
        "    validation_split=0.1,\n",
        "    verbose=2\n",
        ")"
      ]
    },
    {
      "cell_type": "markdown",
      "source": [
        "#### <font color='264CC7'> Evaluar el Modelo </font>\n"
      ],
      "metadata": {
        "id": "d_F5iz9n0s1c"
      }
    },
    {
      "cell_type": "code",
      "source": [
        "test_loss, test_accuracy = model.evaluate(X_test, y_test, verbose=0)\n",
        "print(f\"Precisión en test: {test_accuracy:.4f}\")"
      ],
      "metadata": {
        "colab": {
          "base_uri": "https://localhost:8080/"
        },
        "id": "MoyDz6sw03lB",
        "outputId": "94bcb409-b204-4792-b0da-80bc8b9c296e"
      },
      "execution_count": 8,
      "outputs": [
        {
          "output_type": "stream",
          "name": "stdout",
          "text": [
            "Precisión en test: 0.9671\n"
          ]
        }
      ]
    },
    {
      "cell_type": "markdown",
      "source": [
        "#### <font color='264CC7'> Matriz de confusión y Métricas dle Modelo </font>\n"
      ],
      "metadata": {
        "id": "bIJUqSDo0xzR"
      }
    },
    {
      "cell_type": "code",
      "source": [
        "# Predicciones\n",
        "y_pred_probs = model.predict(X_test)\n",
        "y_pred = y_pred_probs.argmax(axis=1)\n",
        "\n",
        "# Matriz de confusión y métricas\n",
        "conf_mat = confusion_matrix(y_test, y_pred)\n",
        "plt.figure(figsize=(8, 6))\n",
        "sns.heatmap(conf_mat, annot=True, fmt='d', cmap='Blues', xticklabels=range(10), yticklabels=range(10))\n",
        "plt.xlabel('Etiqueta predicha')\n",
        "plt.ylabel('Etiqueta verdadera')\n",
        "plt.title('Matriz de Confusión')\n",
        "plt.show()\n",
        "\n",
        "# Reporte de clasificación\n",
        "print(\"Reporte de clasificación:\\n\")\n",
        "print(classification_report(y_test, y_pred))\n"
      ],
      "metadata": {
        "colab": {
          "base_uri": "https://localhost:8080/",
          "height": 911
        },
        "id": "gD2aGgn-078o",
        "outputId": "d019dd4b-cac7-4886-d0b7-b762337d902d"
      },
      "execution_count": 9,
      "outputs": [
        {
          "output_type": "stream",
          "name": "stdout",
          "text": [
            "\u001b[1m438/438\u001b[0m \u001b[32m━━━━━━━━━━━━━━━━━━━━\u001b[0m\u001b[37m\u001b[0m \u001b[1m1s\u001b[0m 1ms/step\n"
          ]
        },
        {
          "output_type": "display_data",
          "data": {
            "text/plain": [
              "<Figure size 800x600 with 2 Axes>"
            ],
            "image/png": "[encoded data removed]"
          },
          "metadata": {}
        },
        {
          "output_type": "stream",
          "name": "stdout",
          "text": [
            "Reporte de clasificación:\n",
            "\n",
            "              precision    recall  f1-score   support\n",
            "\n",
            "           0       0.98      0.98      0.98      1343\n",
            "           1       0.98      0.99      0.99      1600\n",
            "           2       0.97      0.96      0.97      1380\n",
            "           3       0.95      0.97      0.96      1433\n",
            "           4       0.95      0.98      0.97      1295\n",
            "           5       0.97      0.96      0.96      1273\n",
            "           6       0.98      0.97      0.98      1396\n",
            "           7       0.96      0.97      0.97      1503\n",
            "           8       0.96      0.94      0.95      1357\n",
            "           9       0.97      0.94      0.96      1420\n",
            "\n",
            "    accuracy                           0.97     14000\n",
            "   macro avg       0.97      0.97      0.97     14000\n",
            "weighted avg       0.97      0.97      0.97     14000\n",
            "\n"
          ]
        }
      ]
    },
    {
      "cell_type": "markdown",
      "source": [
        "### Regularizador"
      ],
      "metadata": {
        "id": "xiY_407P44jG"
      }
    },
    {
      "cell_type": "code",
      "source": [
        "from tensorflow.keras.models import Sequential\n",
        "from tensorflow.keras.layers import Dense, Dropout\n",
        "from tensorflow.keras import regularizers\n",
        "\n",
        "# 1. Definir la red neuronal con regularización\n",
        "model = Sequential([\n",
        "    Dense(64, activation='relu', input_shape=(784,),\n",
        "          kernel_regularizer=regularizers.l2(0.001)),  # Regularización L2\n",
        "    Dropout(0.3),                                       # Dropout del 30%\n",
        "    Dense(10, activation='softmax')                     # Capa de salida\n",
        "])\n",
        "\n",
        "# 2. Compilar la red\n",
        "model.compile(\n",
        "    optimizer='adam',\n",
        "    loss='sparse_categorical_crossentropy',\n",
        "    metrics=['accuracy']\n",
        ")\n",
        "\n",
        "# 3. Mostrar resumen de la red\n",
        "model.summary()\n"
      ],
      "metadata": {
        "id": "DuA5HG_34597",
        "outputId": "c4c34ee7-2ee0-460d-e489-1670382c7b44",
        "colab": {
          "base_uri": "https://localhost:8080/",
          "height": 280
        }
      },
      "execution_count": 10,
      "outputs": [
        {
          "output_type": "stream",
          "name": "stderr",
          "text": [
            "/usr/local/lib/python3.11/dist-packages/keras/src/layers/core/dense.py:87: UserWarning: Do not pass an `input_shape`/`input_dim` argument to a layer. When using Sequential models, prefer using an `Input(shape)` object as the first layer in the model instead.\n",
            "  super().__init__(activity_regularizer=activity_regularizer, **kwargs)\n"
          ]
        },
        {
          "output_type": "display_data",
          "data": {
            "text/plain": [
              "\u001b[1mModel: \"sequential_1\"\u001b[0m\n"
            ],
            "text/html": [
              "<pre style=\"white-space:pre;overflow-x:auto;line-height:normal;font-family:Menlo,'DejaVu Sans Mono',consolas,'Courier New',monospace\"><span style=\"font-weight: bold\">Model: \"sequential_1\"</span>\n",
              "</pre>\n"
            ]
          },
          "metadata": {}
        },
        {
          "output_type": "display_data",
          "data": {
            "text/plain": [
              "┏━━━━━━━━━━━━━━━━━━━━━━━━━━━━━━━━━┳━━━━━━━━━━━━━━━━━━━━━━━━┳━━━━━━━━━━━━━━━┓\n",
              "┃\u001b[1m \u001b[0m\u001b[1mLayer (type)                   \u001b[0m\u001b[1m \u001b[0m┃\u001b[1m \u001b[0m\u001b[1mOutput Shape          \u001b[0m\u001b[1m \u001b[0m┃\u001b[1m \u001b[0m\u001b[1m      Param #\u001b[0m\u001b[1m \u001b[0m┃\n",
              "┡━━━━━━━━━━━━━━━━━━━━━━━━━━━━━━━━━╇━━━━━━━━━━━━━━━━━━━━━━━━╇━━━━━━━━━━━━━━━┩\n",
              "│ dense_2 (\u001b[38;5;33mDense\u001b[0m)                 │ (\u001b[38;5;45mNone\u001b[0m, \u001b[38;5;34m64\u001b[0m)             │        \u001b[38;5;34m50,240\u001b[0m │\n",
              "├─────────────────────────────────┼────────────────────────┼───────────────┤\n",
              "│ dropout (\u001b[38;5;33mDropout\u001b[0m)               │ (\u001b[38;5;45mNone\u001b[0m, \u001b[38;5;34m64\u001b[0m)             │             \u001b[38;5;34m0\u001b[0m │\n",
              "├─────────────────────────────────┼────────────────────────┼───────────────┤\n",
              "│ dense_3 (\u001b[38;5;33mDense\u001b[0m)                 │ (\u001b[38;5;45mNone\u001b[0m, \u001b[38;5;34m10\u001b[0m)             │           \u001b[38;5;34m650\u001b[0m │\n",
              "└─────────────────────────────────┴────────────────────────┴───────────────┘\n"
            ],
            "text/html": [
              "<pre style=\"white-space:pre;overflow-x:auto;line-height:normal;font-family:Menlo,'DejaVu Sans Mono',consolas,'Courier New',monospace\">┏━━━━━━━━━━━━━━━━━━━━━━━━━━━━━━━━━┳━━━━━━━━━━━━━━━━━━━━━━━━┳━━━━━━━━━━━━━━━┓\n",
              "┃<span style=\"font-weight: bold\"> Layer (type)                    </span>┃<span style=\"font-weight: bold\"> Output Shape           </span>┃<span style=\"font-weight: bold\">       Param # </span>┃\n",
              "┡━━━━━━━━━━━━━━━━━━━━━━━━━━━━━━━━━╇━━━━━━━━━━━━━━━━━━━━━━━━╇━━━━━━━━━━━━━━━┩\n",
              "│ dense_2 (<span style=\"color: #0087ff; text-decoration-color: #0087ff\">Dense</span>)                 │ (<span style=\"color: #00d7ff; text-decoration-color: #00d7ff\">None</span>, <span style=\"color: #00af00; text-decoration-color: #00af00\">64</span>)             │        <span style=\"color: #00af00; text-decoration-color: #00af00\">50,240</span> │\n",
              "├─────────────────────────────────┼────────────────────────┼───────────────┤\n",
              "│ dropout (<span style=\"color: #0087ff; text-decoration-color: #0087ff\">Dropout</span>)               │ (<span style=\"color: #00d7ff; text-decoration-color: #00d7ff\">None</span>, <span style=\"color: #00af00; text-decoration-color: #00af00\">64</span>)             │             <span style=\"color: #00af00; text-decoration-color: #00af00\">0</span> │\n",
              "├─────────────────────────────────┼────────────────────────┼───────────────┤\n",
              "│ dense_3 (<span style=\"color: #0087ff; text-decoration-color: #0087ff\">Dense</span>)                 │ (<span style=\"color: #00d7ff; text-decoration-color: #00d7ff\">None</span>, <span style=\"color: #00af00; text-decoration-color: #00af00\">10</span>)             │           <span style=\"color: #00af00; text-decoration-color: #00af00\">650</span> │\n",
              "└─────────────────────────────────┴────────────────────────┴───────────────┘\n",
              "</pre>\n"
            ]
          },
          "metadata": {}
        },
        {
          "output_type": "display_data",
          "data": {
            "text/plain": [
              "\u001b[1m Total params: \u001b[0m\u001b[38;5;34m50,890\u001b[0m (198.79 KB)\n"
            ],
            "text/html": [
              "<pre style=\"white-space:pre;overflow-x:auto;line-height:normal;font-family:Menlo,'DejaVu Sans Mono',consolas,'Courier New',monospace\"><span style=\"font-weight: bold\"> Total params: </span><span style=\"color: #00af00; text-decoration-color: #00af00\">50,890</span> (198.79 KB)\n",
              "</pre>\n"
            ]
          },
          "metadata": {}
        },
        {
          "output_type": "display_data",
          "data": {
            "text/plain": [
              "\u001b[1m Trainable params: \u001b[0m\u001b[38;5;34m50,890\u001b[0m (198.79 KB)\n"
            ],
            "text/html": [
              "<pre style=\"white-space:pre;overflow-x:auto;line-height:normal;font-family:Menlo,'DejaVu Sans Mono',consolas,'Courier New',monospace\"><span style=\"font-weight: bold\"> Trainable params: </span><span style=\"color: #00af00; text-decoration-color: #00af00\">50,890</span> (198.79 KB)\n",
              "</pre>\n"
            ]
          },
          "metadata": {}
        },
        {
          "output_type": "display_data",
          "data": {
            "text/plain": [
              "\u001b[1m Non-trainable params: \u001b[0m\u001b[38;5;34m0\u001b[0m (0.00 B)\n"
            ],
            "text/html": [
              "<pre style=\"white-space:pre;overflow-x:auto;line-height:normal;font-family:Menlo,'DejaVu Sans Mono',consolas,'Courier New',monospace\"><span style=\"font-weight: bold\"> Non-trainable params: </span><span style=\"color: #00af00; text-decoration-color: #00af00\">0</span> (0.00 B)\n",
              "</pre>\n"
            ]
          },
          "metadata": {}
        }
      ]
    },
    {
      "cell_type": "code",
      "source": [
        "from sklearn.model_selection import train_test_split\n",
        "from sklearn.metrics import classification_report, confusion_matrix\n",
        "import seaborn as sns\n",
        "import matplotlib.pyplot as plt\n",
        "import numpy as np\n",
        "\n",
        "# 1. Dividir el conjunto de datos\n",
        "X_train, X_test, y_train, y_test = train_test_split(X_scaled, y, test_size=0.2, random_state=42)\n",
        "\n",
        "# 2. Entrenar el modelo\n",
        "history = model.fit(X_train, y_train, epochs=10, batch_size=32, validation_split=0.1)\n",
        "\n",
        "# 3. Evaluar el modelo\n",
        "test_loss, test_accuracy = model.evaluate(X_test, y_test)\n",
        "print(f\"Precisión en test: {test_accuracy:.4f}\")\n",
        "\n",
        "# 4. Predicciones\n",
        "y_pred = model.predict(X_test)\n",
        "y_pred_classes = np.argmax(y_pred, axis=1)\n",
        "\n",
        "# 5. Reporte de clasificación\n",
        "print(\"Reporte de clasificación:\\n\")\n",
        "print(classification_report(y_test, y_pred_classes))\n",
        "\n",
        "# 6. Matriz de confusión\n",
        "conf_matrix = confusion_matrix(y_test, y_pred_classes)\n",
        "plt.figure(figsize=(8, 6))\n",
        "sns.heatmap(conf_matrix, annot=True, fmt=\"d\", cmap=\"Blues\")\n",
        "plt.title(\"Matriz de Confusión con Regularización\")\n",
        "plt.xlabel(\"Etiqueta predicha\")\n",
        "plt.ylabel(\"Etiqueta verdadera\")\n",
        "plt.show()\n"
      ],
      "metadata": {
        "id": "o7qo7AEk5EHQ"
      },
      "execution_count": null,
      "outputs": []
    },
    {
      "cell_type": "markdown",
      "source": [
        "### <font color='264CC7'> Conclusión </font>\n"
      ],
      "metadata": {
        "id": "Uh4-t6yo17GH"
      }
    },
    {
      "cell_type": "markdown",
      "source": [
        "El modelo de perceptrón multicapa entrenado para clasificar los dígitos manuscritos del conjunto MNIST logró un excelente desempeño, alcanzando una precisión del 97% en el conjunto de prueba. Las métricas de evaluación como precisión, recall y F1-score fueron consistentemente altas en todas las clases, destacando su capacidad para generalizar. La matriz de confusión muestra una baja tasa de error, lo cual confirma la efectividad del modelo en la tarea de clasificación. Este ejercicio demuestra cómo una red neuronal simple puede ser eficaz para resolver problemas clásicos de reconocimiento de patrones."
      ],
      "metadata": {
        "id": "6fauYKpu10KF"
      }
    }
  ],
  "metadata": {
    "kernelspec": {
      "display_name": "Python 3",
      "language": "python",
      "name": "python3"
    },
    "language_info": {
      "codemirror_mode": {
        "name": "ipython",
        "version": 3
      },
      "file_extension": ".py",
      "mimetype": "text/x-python",
      "name": "python",
      "nbconvert_exporter": "python",
      "pygments_lexer": "ipython3",
      "version": "3.12.3"
    },
    "colab": {
      "provenance": []
    }
  },
  "nbformat": 4,
  "nbformat_minor": 0
}